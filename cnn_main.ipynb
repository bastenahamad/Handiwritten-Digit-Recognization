{
  "cells": [
    {
      "cell_type": "markdown",
      "metadata": {
        "id": "5t-Fg3BbMV_E"
      },
      "source": [
        "# 21BCS8364 Basten Ahamad Molla\n",
        "## Importing the Libraries\n"
      ]
    },
    {
      "cell_type": "code",
      "execution_count": 2,
      "metadata": {
        "colab": {
          "base_uri": "https://localhost:8080/"
        },
        "id": "W2eRqaiXtz33",
        "outputId": "6ff5b3b9-5245-450c-8bb8-b8600f3861b9"
      },
      "outputs": [
        {
          "name": "stdout",
          "output_type": "stream",
          "text": [
            "Downloading data from https://storage.googleapis.com/tensorflow/tf-keras-datasets/mnist.npz\n",
            "11493376/11490434 [==============================] - 0s 0us/step\n",
            "11501568/11490434 [==============================] - 0s 0us/step\n",
            "TensorFlow Version: 2.8.2\n"
          ]
        }
      ],
      "source": [
        "import tensorflow as tf\n",
        "import matplotlib.pyplot as plt\n",
        "import numpy as np\n",
        "from tensorflow import keras\n",
        "from keras.datasets import mnist\n",
        "mnist.load_data()\n",
        "print('TensorFlow Version:', tf.__version__)"
      ]
    },
    {
      "cell_type": "markdown",
      "metadata": {
        "id": "oQb2CJM0Mug2"
      },
      "source": [
        "#Loading the MNIST Datasets"
      ]
    },
    {
      "cell_type": "code",
      "execution_count": 3,
      "metadata": {
        "id": "S3jzQ33hhsrp"
      },
      "outputs": [],
      "source": [
        "(x_train, y_train) , (x_test, y_test) = keras.datasets.mnist.load_data()"
      ]
    },
    {
      "cell_type": "markdown",
      "metadata": {
        "id": "0MYUIzj6M_sN"
      },
      "source": [
        "#Processing of the Datasets"
      ]
    },
    {
      "cell_type": "code",
      "execution_count": 4,
      "metadata": {
        "id": "y99L8ueHiQ_n"
      },
      "outputs": [],
      "source": [
        "x_train = x_train/255.0\n",
        "x_test = x_test/255.0"
      ]
    },
    {
      "cell_type": "code",
      "execution_count": 5,
      "metadata": {
        "id": "Ym7TR_oLtFAO"
      },
      "outputs": [],
      "source": [
        "x_train = x_train.reshape(-1,28,28,1)    #training set\n",
        "x_test = x_test.reshape(-1,28,28,1)      #test set"
      ]
    },
    {
      "cell_type": "markdown",
      "metadata": {
        "id": "7k5O3IlSNHoG"
      },
      "source": [
        "#Creating and Training a CNN"
      ]
    },
    {
      "cell_type": "code",
      "execution_count": 9,
      "metadata": {
        "id": "5HTIolZeUU1c"
      },
      "outputs": [],
      "source": [
        "batch_size = 128\n",
        "num_classes = 10\n",
        "epochs = 10"
      ]
    },
    {
      "cell_type": "code",
      "execution_count": 10,
      "metadata": {
        "id": "yl2zTfuftWYf"
      },
      "outputs": [],
      "source": [
        "  model = tf.keras.models.Sequential([\n",
        "      tf.keras.layers.Conv2D(filters=25, kernel_size=(3, 3), activation='relu', input_shape=(28,28,1)), \n",
        "      tf.keras.layers.MaxPooling2D((2, 2)),\n",
        "      tf.keras.layers.Conv2D(filters=64, kernel_size=(3, 3), activation='relu'),\n",
        "      tf.keras.layers.MaxPooling2D((2, 2)),\n",
        "      tf.keras.layers.Conv2D(filters=64, kernel_size=(3, 3), activation='relu'),\n",
        "      tf.keras.layers.MaxPooling2D((2, 2)),\n",
        "      tf.keras.layers.Flatten(),\n",
        "      tf.keras.layers.Dense(64, activation='relu'),\n",
        "      tf.keras.layers.Dense(10, activation='softmax')\n",
        "    ])"
      ]
    },
    {
      "cell_type": "code",
      "execution_count": 11,
      "metadata": {
        "colab": {
          "base_uri": "https://localhost:8080/"
        },
        "id": "LrGig9mXw3NG",
        "outputId": "8afb5471-5727-4255-d624-586be9e38d7b"
      },
      "outputs": [
        {
          "name": "stdout",
          "output_type": "stream",
          "text": [
            "Epoch 1/10\n",
            "469/469 [==============================] - 52s 109ms/step - loss: 0.3719 - accuracy: 0.8885 - val_loss: 0.1307 - val_accuracy: 0.9564\n",
            "Epoch 2/10\n",
            "469/469 [==============================] - 50s 107ms/step - loss: 0.1139 - accuracy: 0.9652 - val_loss: 0.0800 - val_accuracy: 0.9767\n",
            "Epoch 3/10\n",
            "469/469 [==============================] - 51s 109ms/step - loss: 0.0800 - accuracy: 0.9756 - val_loss: 0.0685 - val_accuracy: 0.9798\n",
            "Epoch 4/10\n",
            "469/469 [==============================] - 49s 104ms/step - loss: 0.0629 - accuracy: 0.9807 - val_loss: 0.0743 - val_accuracy: 0.9777\n",
            "Epoch 5/10\n",
            "469/469 [==============================] - 50s 107ms/step - loss: 0.0513 - accuracy: 0.9840 - val_loss: 0.0595 - val_accuracy: 0.9819\n",
            "Epoch 6/10\n",
            "469/469 [==============================] - 51s 109ms/step - loss: 0.0469 - accuracy: 0.9854 - val_loss: 0.0787 - val_accuracy: 0.9763\n",
            "Epoch 7/10\n",
            "469/469 [==============================] - 50s 106ms/step - loss: 0.0410 - accuracy: 0.9873 - val_loss: 0.0598 - val_accuracy: 0.9816\n",
            "Epoch 8/10\n",
            "469/469 [==============================] - 51s 108ms/step - loss: 0.0362 - accuracy: 0.9886 - val_loss: 0.0645 - val_accuracy: 0.9792\n",
            "Epoch 9/10\n",
            "469/469 [==============================] - 51s 110ms/step - loss: 0.0316 - accuracy: 0.9893 - val_loss: 0.0553 - val_accuracy: 0.9847\n",
            "Epoch 10/10\n",
            "469/469 [==============================] - 51s 108ms/step - loss: 0.0273 - accuracy: 0.9912 - val_loss: 0.0485 - val_accuracy: 0.9858\n"
          ]
        },
        {
          "data": {
            "text/plain": [
              "<keras.callbacks.History at 0x7fe733652e10>"
            ]
          },
          "execution_count": 11,
          "metadata": {},
          "output_type": "execute_result"
        }
      ],
      "source": [
        "model.compile(optimizer='adam', \n",
        "                  loss='sparse_categorical_crossentropy', \n",
        "                  metrics=['accuracy']) \n",
        "model.fit(x_train, y_train,\n",
        "          batch_size=batch_size,\n",
        "          epochs=epochs,\n",
        "          verbose=1,\n",
        "          validation_data=(x_test, y_test))"
      ]
    },
    {
      "cell_type": "code",
      "execution_count": 12,
      "metadata": {
        "colab": {
          "base_uri": "https://localhost:8080/"
        },
        "id": "_uETHepgTRxw",
        "outputId": "7e4b97e1-402b-41a3-f2c7-e489fa65b0bc"
      },
      "outputs": [
        {
          "name": "stdout",
          "output_type": "stream",
          "text": [
            "Test loss: 0.04847429320216179\n",
            "Test accuracy: 0.98580002784729\n"
          ]
        }
      ],
      "source": [
        "score = model.evaluate(x_test, y_test, verbose=0)\n",
        "print('Test loss:', score[0])\n",
        "print('Test accuracy:', score[1])"
      ]
    },
    {
      "cell_type": "markdown",
      "metadata": {
        "id": "hTri1-lrNSup"
      },
      "source": [
        "#Making Predections"
      ]
    },
    {
      "cell_type": "code",
      "execution_count": 13,
      "metadata": {
        "colab": {
          "base_uri": "https://localhost:8080/"
        },
        "id": "G3cm6eK9vWM1",
        "outputId": "576e9fe7-a121-42e1-e02c-3c81a14dffd2"
      },
      "outputs": [
        {
          "name": "stdout",
          "output_type": "stream",
          "text": [
            "313/313 [==============================] - 4s 12ms/step - loss: 0.0485 - accuracy: 0.9858\n"
          ]
        },
        {
          "data": {
            "text/plain": [
              "[0.04847429320216179, 0.98580002784729]"
            ]
          },
          "execution_count": 13,
          "metadata": {},
          "output_type": "execute_result"
        }
      ],
      "source": [
        "model.evaluate(x_test, y_test)"
      ]
    },
    {
      "cell_type": "code",
      "execution_count": 14,
      "metadata": {
        "id": "sYXv9Yn2vzhy"
      },
      "outputs": [],
      "source": [
        "y_predicted_by_model = model.predict(x_test)"
      ]
    },
    {
      "cell_type": "code",
      "execution_count": 15,
      "metadata": {
        "colab": {
          "base_uri": "https://localhost:8080/"
        },
        "id": "PUB1EJbOx9bg",
        "outputId": "f069df58-c7dc-4970-f4f4-99366c3fe6a8"
      },
      "outputs": [
        {
          "data": {
            "text/plain": [
              "array([5.3075091e-09, 4.9341174e-06, 1.1033585e-06, 4.9043206e-07,\n",
              "       2.0423385e-10, 3.7179865e-10, 5.8598322e-14, 9.9999309e-01,\n",
              "       2.3444544e-09, 5.1124493e-07], dtype=float32)"
            ]
          },
          "execution_count": 15,
          "metadata": {},
          "output_type": "execute_result"
        }
      ],
      "source": [
        "y_predicted_by_model[0]"
      ]
    },
    {
      "cell_type": "code",
      "execution_count": 16,
      "metadata": {
        "colab": {
          "base_uri": "https://localhost:8080/"
        },
        "id": "tqKHf1RjyCCx",
        "outputId": "e75ffab4-e1da-4e00-903d-993217830a6e"
      },
      "outputs": [
        {
          "data": {
            "text/plain": [
              "2"
            ]
          },
          "execution_count": 16,
          "metadata": {},
          "output_type": "execute_result"
        }
      ],
      "source": [
        "np.argmax(y_predicted_by_model[1])"
      ]
    }
  ],
  "metadata": {
    "colab": {
      "collapsed_sections": [],
      "name": "digit_recog.ipynb",
      "provenance": []
    },
    "kernelspec": {
      "display_name": "Python 3",
      "name": "python3"
    },
    "language_info": {
      "name": "python"
    }
  },
  "nbformat": 4,
  "nbformat_minor": 0
}
